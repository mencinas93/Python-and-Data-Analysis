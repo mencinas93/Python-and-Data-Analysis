{
 "cells": [
  {
   "cell_type": "markdown",
   "id": "f5b6e90a",
   "metadata": {},
   "source": [
    "# Session 2: Variables and Assignment Statements"
   ]
  },
  {
   "cell_type": "markdown",
   "id": "4a1f2eac",
   "metadata": {
    "slideshow": {
     "slide_type": "slide"
    }
   },
   "source": [
    "### Variables\n",
    "In Python, variables store values for later use. For example: `x = 7`\n",
    "* Variables are identifiers consisting of letters, digits, and underscores (_), but cannot start with a digit.\n",
    "* Python is case-sensitive, so number and Number are different.\n",
    "* Use = for assignment (e.g., x = 7).\n",
    "\n",
    "### Type\n",
    "\n",
    "* Each value in Python has a type that indicates the kind of data the value represents. "
   ]
  },
  {
   "cell_type": "code",
   "execution_count": 120,
   "id": "80f76898",
   "metadata": {},
   "outputs": [
    {
     "data": {
      "text/plain": [
       "int"
      ]
     },
     "execution_count": 120,
     "metadata": {},
     "output_type": "execute_result"
    }
   ],
   "source": [
    "\n",
    "#examples:\n",
    "\n",
    "x = 7\n",
    "type(x)"
   ]
  },
  {
   "cell_type": "code",
   "execution_count": 121,
   "id": "1a7edaca",
   "metadata": {},
   "outputs": [
    {
     "data": {
      "text/plain": [
       "float"
      ]
     },
     "execution_count": 121,
     "metadata": {},
     "output_type": "execute_result"
    }
   ],
   "source": [
    "#try another number\n",
    "\n",
    "x=10.5\n",
    "type(x)"
   ]
  },
  {
   "cell_type": "markdown",
   "id": "5a1d5835",
   "metadata": {},
   "source": [
    "### Arithmetic Operators in Python\n",
    "\n",
    "Python supports various arithmetic operations:\n",
    "- **Addition**: `+`\n",
    "- **Subtraction**: `-`\n",
    "- **Multiplication**: `*`\n",
    "- **Division (float)**: `/`\n",
    "- **Floor Division**: `//`\n",
    "- **Exponentiation**: `**`\n",
    "- **Remainder (Modulo)**: `%`\n",
    "\n",
    "#### Example:\n",
    "- Calculate `7 * 4`, `2 ** 10`, and `7 / 4`.\n",
    "- Use parentheses to change the order of operations.\n",
    "- Parentheses, Exponents, Multiplication/Division, Addition/Subtraction"
   ]
  },
  {
   "cell_type": "code",
   "execution_count": 117,
   "id": "ec99427d",
   "metadata": {},
   "outputs": [
    {
     "name": "stdout",
     "output_type": "stream",
     "text": [
      "28\n",
      "1024\n",
      "1.75\n",
      "80\n",
      "53\n"
     ]
    }
   ],
   "source": [
    "# Arithmetic operations\n",
    "print(7 * 4)  # Multiplication\n",
    "print(2 ** 10)  # Exponentiation\n",
    "print(7 / 4)  # Division\n",
    "\n",
    "# Parentheses for grouping\n",
    "print((10 * (5 + 3)))  # With parentheses\n",
    "print(10 * 5 + 3)  # Without parentheses\n"
   ]
  },
  {
   "cell_type": "code",
   "execution_count": 125,
   "id": "e87b74f9",
   "metadata": {},
   "outputs": [
    {
     "data": {
      "text/plain": [
       "3"
      ]
     },
     "execution_count": 125,
     "metadata": {},
     "output_type": "execute_result"
    }
   ],
   "source": [
    "7 % 4"
   ]
  },
  {
   "cell_type": "code",
   "execution_count": 126,
   "id": "18a93845",
   "metadata": {},
   "outputs": [
    {
     "data": {
      "text/plain": [
       "22"
      ]
     },
     "execution_count": 126,
     "metadata": {},
     "output_type": "execute_result"
    }
   ],
   "source": [
    "(7 + 4) * 2"
   ]
  },
  {
   "cell_type": "code",
   "execution_count": 127,
   "id": "cb75741e",
   "metadata": {},
   "outputs": [
    {
     "data": {
      "text/plain": [
       "15"
      ]
     },
     "execution_count": 127,
     "metadata": {},
     "output_type": "execute_result"
    }
   ],
   "source": [
    "7 + (4 * 2)"
   ]
  },
  {
   "cell_type": "markdown",
   "id": "57a59723",
   "metadata": {},
   "source": [
    "### Function `print` and Strings in Python\n",
    "\n",
    "The `print` function is used to display text or values. It supports various features, such as:\n",
    "\n",
    "1. **Simple Text Display**: Print a single string enclosed in single (`' '`) or double (`\" \"`) quotes.\n",
    "   - Example: `print('Hello, Python!')`\n",
    "\n",
    "2. **Printing Multiple Items**: You can print multiple items separated by commas, and Python will insert spaces between them.\n",
    "   - Example: `print('Python', 'is', 'fun!')`\n",
    "\n",
    "3. **Escape Sequences**: Use a backslash `\\` for special characters like:\n",
    "   - `\\n`: Newline\n",
    "   - Example: `print('Hello\\nWorld')`\n",
    "\n",
    "4. **Including Quotes in Strings**:\n",
    "   - Double quotes inside single-quoted strings: `print('He said \"Python is amazing!\"')`\n",
    "   - Use `\\` to escape quotes: `print('It\\'s a great day!')`\n",
    "\n",
    "5. **Long Strings Across Lines**: Use a backslash `\\` to split long strings across multiple lines.\n",
    "   - Example: `print('This is a long string split \\\n",
    "   across two lines.')`\n",
    "   \n",
    "6. **Calculations can be performed in print statements**\n",
    "   - Example: `print('Sum is', 7 + 4)`\n"
   ]
  },
  {
   "cell_type": "code",
   "execution_count": 132,
   "id": "14404b1e",
   "metadata": {},
   "outputs": [
    {
     "name": "stdout",
     "output_type": "stream",
     "text": [
      "Sum is 11\n"
     ]
    }
   ],
   "source": [
    "print('Sum is', 7 + 4)"
   ]
  },
  {
   "cell_type": "code",
   "execution_count": 64,
   "id": "4370c61e",
   "metadata": {},
   "outputs": [
    {
     "name": "stdout",
     "output_type": "stream",
     "text": [
      "Hello, Python!\n",
      "Welcome to Python programming!\n",
      "Python is fun!\n",
      "Hello\n",
      "World\n",
      "\n",
      "Python is awesome!\n",
      "It's a great day!\n",
      "He said \"Python is amazing!\"\n",
      "It's a wonderful day!\n",
      "This is a very long string split across two lines.\n",
      "Sum is 17\n"
     ]
    }
   ],
   "source": [
    "# Simple text display\n",
    "print('Hello, Python!')\n",
    "print(\"Welcome to Python programming!\")\n",
    "\n",
    "# Printing multiple items\n",
    "print('Python', 'is', 'fun!')\n",
    "\n",
    "# Escape sequences\n",
    "print('Hello\\nWorld\\n\\nPython is awesome!')\n",
    "\n",
    "# Including quotes in strings\n",
    "print(\"It's a great day!\")\n",
    "print('He said \"Python is amazing!\"')\n",
    "print('It\\'s a wonderful day!')\n",
    "\n",
    "# Long strings across lines\n",
    "print('This is a very long string \\\n",
    "split across two lines.')\n",
    "\n",
    "#Calculations can be performed in print statements\n",
    "print('Sum is', 7 + 10)"
   ]
  },
  {
   "cell_type": "markdown",
   "id": "b5bc867d",
   "metadata": {},
   "source": [
    "### Triple-Quoted Strings\n",
    "\n",
    "Triple-quoted strings in Python begin and end with three double quotes (`\"\"\"`) or three single quotes (`'''`). The Style Guide for Python Code recommends using `\"\"\"`.\n",
    "\n",
    "#### Key Uses of Triple-Quoted Strings:\n",
    "1. **Multiline Strings**:\n",
    "   - Useful for writing strings that span multiple lines.\n",
    "   - Example:\n",
    "     ```python\n",
    "     \"\"\"This is a triple-quoted\n",
    "     string that spans two lines\"\"\"\n",
    "     ```\n",
    "\n",
    "2. **Including Both Single and Double Quotes**:\n",
    "   - You can include both types of quotes in triple-quoted strings without escaping them.\n",
    "   - Example:\n",
    "     ```python\n",
    "     \"\"\"This string contains both \"double quotes\" and 'single quotes'.\"\"\"\n",
    "     ```\n",
    "\n",
    "3. **Docstrings**:\n",
    "   - Triple-quoted strings are often used to document the purpose of functions, classes, and scripts.\n",
    "\n",
    "\n"
   ]
  },
  {
   "cell_type": "code",
   "execution_count": 133,
   "id": "fac41476",
   "metadata": {},
   "outputs": [
    {
     "name": "stdout",
     "output_type": "stream",
     "text": [
      "This is a \n",
      "triple-quoted string.\n",
      "This includes \"double quotes\" and 'single quotes'.\n",
      "Display \"hi\" in quotes\n",
      "Display the name O'Brien\n",
      "Display 'hi' in quotes\n"
     ]
    }
   ],
   "source": [
    "# Examples of Triple-Quoted Strings:\n",
    "\n",
    "# Multiline string with triple quotes\n",
    "triple_quoted_string = \"\"\"This is a \n",
    "triple-quoted string.\"\"\"\n",
    "print(triple_quoted_string)\n",
    "\n",
    "# Including both single and double quotes\n",
    "print(\"\"\"This includes \"double quotes\" and 'single quotes'.\"\"\")\n",
    "\n",
    "# Regular strings with escape sequences\n",
    "print('Display \"hi\" in quotes')        # Double quotes inside single quotes\n",
    "print(\"Display the name O'Brien\")     # Single quotes inside double quotes\n",
    "print('Display \\'hi\\' in quotes')     # Escaping single quotes\n"
   ]
  },
  {
   "cell_type": "markdown",
   "id": "b75426b6",
   "metadata": {},
   "source": [
    "### Getting Input from the User\n",
    "\n",
    "The built-in input function requests and obtains user input and convert it to other types as needed.\n",
    "\n",
    "\n",
    "#### Example:\n",
    "- Prompt the user for two numbers.\n",
    "- Add them and display the result."
   ]
  },
  {
   "cell_type": "code",
   "execution_count": 134,
   "id": "deb4718d",
   "metadata": {},
   "outputs": [
    {
     "name": "stdout",
     "output_type": "stream",
     "text": [
      "Enter first number: 10\n",
      "Enter second number: 10\n",
      "The total is: 20\n"
     ]
    }
   ],
   "source": [
    "# Getting input and converting to integers\n",
    "value1 = int(input(\"Enter first number: \"))\n",
    "value2 = int(input(\"Enter second number: \"))\n",
    "\n",
    "# Adding the values\n",
    "print(\"The total is:\", value1 + value2)\n"
   ]
  },
  {
   "cell_type": "markdown",
   "id": "818d8f1a",
   "metadata": {},
   "source": [
    "### Decision Making: `if` Statements\n",
    "\n",
    "Python uses `if`, `if...else`, and `if...elif...else` for decision-making.\n",
    "\n",
    "#### Example:\n",
    "- Check if a number is positive, negative, or zero.\n",
    "- Use comparison operators (`==`, `!=`, `>`, `<`, `>=`, `<=`) to form conditions.\n"
   ]
  },
  {
   "cell_type": "code",
   "execution_count": 136,
   "id": "c8fab1d8",
   "metadata": {},
   "outputs": [
    {
     "name": "stdout",
     "output_type": "stream",
     "text": [
      "Enter a number: -10\n",
      "The number is negative.\n"
     ]
    }
   ],
   "source": [
    "# Decision making with if statements\n",
    "number = int(input(\"Enter a number: \"))\n",
    "\n",
    "if number > 0:\n",
    "    print(\"The number is positive.\")\n",
    "elif number == 0:\n",
    "    print(\"The number is zero.\")\n",
    "else:\n",
    "    print(\"The number is negative.\")\n"
   ]
  },
  {
   "cell_type": "markdown",
   "id": "f9246943",
   "metadata": {},
   "source": [
    "### Basic Descriptive Statistics\n",
    "\n",
    "In data science, descriptive statistics are used to summarize and understand datasets.\n",
    "\n",
    "Python has built-in functions for basic statistics:\n",
    "- **`min`**: Smallest value.\n",
    "- **`max`**: Largest value.\n",
    "- **`Range`**: Difference between max and min.\n",
    "- **`Count`**: Number of items in a dataset.\n",
    "- **`Sum`**: Total of all values in a dataset\n",
    "\n",
    "\n",
    "Here are some basic statistics and their purpose:\n",
    "\n",
    "1. **Minimum (`min`)**:\n",
    "   - Smallest value in a list.\n",
    "   - Example: `min([3, 7, 2, 5])` gives `2`.\n",
    "\n",
    "2. **Maximum (`max`)**:\n",
    "   - Largest value in a list.\n",
    "   - Example: `max([3, 7, 2, 5])` gives `7`.\n",
    "\n",
    "3. **Range**:\n",
    "   - Difference between the maximum and minimum values.\n",
    "   - Example: `max([3, 7, 2, 5]) - min([3, 7, 2, 5])` gives `5`.\n",
    "\n",
    "4. **Count (`len`)**:\n",
    "   - Number of items in a list.\n",
    "   - Example: `len([3, 7, 2, 5])` gives `4`.\n",
    "\n",
    "5. **Sum (`sum`)**:\n",
    "   - Total of all values in a list.\n",
    "   - Example: `sum([3, 7, 2, 5])` gives `17`.\n",
    "\n",
    "#### Example Use Case:\n",
    "- Consider a dataset `[3, 7, 2, 5]`. You can calculate:\n",
    "  - Minimum: `2`\n",
    "  - Maximum: `7`\n",
    "  - Range: `7 - 2 = 5`\n",
    "  - Count: `4`\n",
    "  - Sum: `17`\n",
    "\n",
    "\n",
    "Let’s calculate these statistics for an example dataset.\n"
   ]
  },
  {
   "cell_type": "code",
   "execution_count": 57,
   "id": "a9f88b1b",
   "metadata": {},
   "outputs": [
    {
     "name": "stdout",
     "output_type": "stream",
     "text": [
      "Dataset: [3, 7, 2, 5]\n",
      "Minimum: 2\n",
      "Maximum: 7\n",
      "Range: 5\n",
      "Count: 4\n",
      "Sum: 17\n"
     ]
    }
   ],
   "source": [
    "\n",
    "# Example dataset\n",
    "data = [3, 7, 2, 5]\n",
    "\n",
    "# Basic descriptive statistics\n",
    "minimum = min(data)   # Smallest value\n",
    "maximum = max(data)   # Largest value\n",
    "data_range = maximum - minimum  # Range\n",
    "count = len(data)     # Number of values\n",
    "total_sum = sum(data) # Total of values\n",
    "\n",
    "# Display results\n",
    "print(\"Dataset:\", data)\n",
    "print(\"Minimum:\", minimum)\n",
    "print(\"Maximum:\", maximum)\n",
    "print(\"Range:\", data_range)\n",
    "print(\"Count:\", count)\n",
    "print(\"Sum:\", total_sum)\n",
    "\n"
   ]
  },
  {
   "cell_type": "markdown",
   "id": "7ab47d55",
   "metadata": {},
   "source": [
    "### Python Style Tips\n",
    "\n",
    "- Use spaces around operators (`x = 7` instead of `x=7`).\n",
    "- Use descriptive variable names (`total_score` instead of `x`).\n",
    "- Write readable code with comments and consistent indentation.\n",
    "\n",
    "#### Example:\n",
    "- Rewrite the code with improved style.\n"
   ]
  },
  {
   "cell_type": "code",
   "execution_count": 23,
   "id": "622404e6",
   "metadata": {},
   "outputs": [
    {
     "name": "stdout",
     "output_type": "stream",
     "text": [
      "10\n",
      "Total: 10\n"
     ]
    }
   ],
   "source": [
    "# Original code\n",
    "x=7\n",
    "y=3\n",
    "total=x+y\n",
    "print(total)\n",
    "\n",
    "# Improved style\n",
    "x = 7\n",
    "y = 3\n",
    "total = x + y\n",
    "print(\"Total:\", total)\n"
   ]
  },
  {
   "cell_type": "code",
   "execution_count": null,
   "id": "f8360d39",
   "metadata": {},
   "outputs": [],
   "source": []
  }
 ],
 "metadata": {
  "celltoolbar": "Slideshow",
  "kernelspec": {
   "display_name": "Python 3",
   "language": "python",
   "name": "python3"
  },
  "language_info": {
   "codemirror_mode": {
    "name": "ipython",
    "version": 3
   },
   "file_extension": ".py",
   "mimetype": "text/x-python",
   "name": "python",
   "nbconvert_exporter": "python",
   "pygments_lexer": "ipython3",
   "version": "3.7.4"
  }
 },
 "nbformat": 4,
 "nbformat_minor": 5
}
